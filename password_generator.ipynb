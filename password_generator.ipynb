{
  "nbformat": 4,
  "nbformat_minor": 0,
  "metadata": {
    "colab": {
      "provenance": []
    },
    "kernelspec": {
      "name": "python3",
      "display_name": "Python 3"
    },
    "language_info": {
      "name": "python"
    }
  },
  "cells": [
    {
      "cell_type": "markdown",
      "source": [
        "### Random Password Generator Application in Python"
      ],
      "metadata": {
        "id": "MXjyfM2wlfjE"
      }
    },
    {
      "cell_type": "code",
      "source": [
        "import random\n",
        "import string"
      ],
      "metadata": {
        "id": "-lEmQwtGk0-p"
      },
      "execution_count": 5,
      "outputs": []
    },
    {
      "cell_type": "code",
      "source": [
        "\n",
        "def generate_password(length, use_lowercase, use_uppercase, use_digits, use_special_chars):\n",
        "    characters = ''\n",
        "    if use_lowercase:\n",
        "        characters += string.ascii_lowercase\n",
        "    if use_uppercase:\n",
        "        characters += string.ascii_uppercase\n",
        "    if use_digits:\n",
        "        characters += string.digits\n",
        "    if use_special_chars:\n",
        "        characters += string.punctuation\n",
        "\n",
        "    if not characters:\n",
        "        return \"No character types selected.\"\n",
        "\n",
        "    password = ''.join(random.choice(characters) for _ in range(length))\n",
        "    return password"
      ],
      "metadata": {
        "id": "v1qeVtrsk3_C"
      },
      "execution_count": 6,
      "outputs": []
    },
    {
      "cell_type": "markdown",
      "source": [
        "This code defines a generate_password function that generates random passwords based on the specified criteria (length and character types)."
      ],
      "metadata": {
        "id": "lgbuBvpklOgH"
      }
    },
    {
      "cell_type": "code",
      "source": [
        "# Example usage\n",
        "length = 19\n",
        "use_lowercase = True\n",
        "use_uppercase = True\n",
        "use_digits = True\n",
        "use_special_chars = True\n",
        "\n",
        "password = generate_password(length, use_lowercase, use_uppercase, use_digits, use_special_chars)\n",
        "print(\"Generated Password:\", password)"
      ],
      "metadata": {
        "colab": {
          "base_uri": "https://localhost:8080/"
        },
        "id": "2j-9aaHuk-gU",
        "outputId": "b7203ad0-d4c1-4b4f-ab42-08e70ec4b90e"
      },
      "execution_count": 10,
      "outputs": [
        {
          "output_type": "stream",
          "name": "stdout",
          "text": [
            "Generated Password: ;%7g5O2@k-'wm8r.u_`\n"
          ]
        }
      ]
    }
  ]
}